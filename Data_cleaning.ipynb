{
 "cells": [
  {
   "cell_type": "code",
   "execution_count": 85,
   "metadata": {},
   "outputs": [],
   "source": [
    "%matplotlib inline\n",
    "import matplotlib.pyplot as plt\n",
    "import numpy as np\n",
    "import pandas as pd\n",
    "\n",
    "import warnings\n",
    "warnings.filterwarnings(\"ignore\")"
   ]
  },
  {
   "cell_type": "code",
   "execution_count": 86,
   "metadata": {},
   "outputs": [
    {
     "data": {
      "text/html": [
       "<div>\n",
       "<style scoped>\n",
       "    .dataframe tbody tr th:only-of-type {\n",
       "        vertical-align: middle;\n",
       "    }\n",
       "\n",
       "    .dataframe tbody tr th {\n",
       "        vertical-align: top;\n",
       "    }\n",
       "\n",
       "    .dataframe thead th {\n",
       "        text-align: right;\n",
       "    }\n",
       "</style>\n",
       "<table border=\"1\" class=\"dataframe\">\n",
       "  <thead>\n",
       "    <tr style=\"text-align: right;\">\n",
       "      <th></th>\n",
       "      <th>ID</th>\n",
       "      <th>Customer_ID</th>\n",
       "      <th>Month</th>\n",
       "      <th>Name</th>\n",
       "      <th>Age</th>\n",
       "      <th>SSN</th>\n",
       "      <th>Occupation</th>\n",
       "      <th>Annual_Income</th>\n",
       "      <th>Monthly_Inhand_Salary</th>\n",
       "      <th>Num_Bank_Accounts</th>\n",
       "      <th>...</th>\n",
       "      <th>Credit_Mix</th>\n",
       "      <th>Outstanding_Debt</th>\n",
       "      <th>Credit_Utilization_Ratio</th>\n",
       "      <th>Credit_History_Age</th>\n",
       "      <th>Payment_of_Min_Amount</th>\n",
       "      <th>Total_EMI_per_month</th>\n",
       "      <th>Amount_invested_monthly</th>\n",
       "      <th>Payment_Behaviour</th>\n",
       "      <th>Monthly_Balance</th>\n",
       "      <th>Credit_Score</th>\n",
       "    </tr>\n",
       "  </thead>\n",
       "  <tbody>\n",
       "    <tr>\n",
       "      <th>0</th>\n",
       "      <td>0x1602</td>\n",
       "      <td>CUS_0xd40</td>\n",
       "      <td>January</td>\n",
       "      <td>Aaron Maashoh</td>\n",
       "      <td>23</td>\n",
       "      <td>821-00-0265</td>\n",
       "      <td>Scientist</td>\n",
       "      <td>19114.12</td>\n",
       "      <td>1824.843333</td>\n",
       "      <td>3</td>\n",
       "      <td>...</td>\n",
       "      <td>_</td>\n",
       "      <td>809.98</td>\n",
       "      <td>26.822620</td>\n",
       "      <td>22 Years and 1 Months</td>\n",
       "      <td>No</td>\n",
       "      <td>49.574949</td>\n",
       "      <td>80.41529543900253</td>\n",
       "      <td>High_spent_Small_value_payments</td>\n",
       "      <td>312.49408867943663</td>\n",
       "      <td>Good</td>\n",
       "    </tr>\n",
       "    <tr>\n",
       "      <th>1</th>\n",
       "      <td>0x1603</td>\n",
       "      <td>CUS_0xd40</td>\n",
       "      <td>February</td>\n",
       "      <td>Aaron Maashoh</td>\n",
       "      <td>23</td>\n",
       "      <td>821-00-0265</td>\n",
       "      <td>Scientist</td>\n",
       "      <td>19114.12</td>\n",
       "      <td>NaN</td>\n",
       "      <td>3</td>\n",
       "      <td>...</td>\n",
       "      <td>Good</td>\n",
       "      <td>809.98</td>\n",
       "      <td>31.944960</td>\n",
       "      <td>NaN</td>\n",
       "      <td>No</td>\n",
       "      <td>49.574949</td>\n",
       "      <td>118.28022162236736</td>\n",
       "      <td>Low_spent_Large_value_payments</td>\n",
       "      <td>284.62916249607184</td>\n",
       "      <td>Good</td>\n",
       "    </tr>\n",
       "    <tr>\n",
       "      <th>2</th>\n",
       "      <td>0x1604</td>\n",
       "      <td>CUS_0xd40</td>\n",
       "      <td>March</td>\n",
       "      <td>Aaron Maashoh</td>\n",
       "      <td>-500</td>\n",
       "      <td>821-00-0265</td>\n",
       "      <td>Scientist</td>\n",
       "      <td>19114.12</td>\n",
       "      <td>NaN</td>\n",
       "      <td>3</td>\n",
       "      <td>...</td>\n",
       "      <td>Good</td>\n",
       "      <td>809.98</td>\n",
       "      <td>28.609352</td>\n",
       "      <td>22 Years and 3 Months</td>\n",
       "      <td>No</td>\n",
       "      <td>49.574949</td>\n",
       "      <td>81.699521264648</td>\n",
       "      <td>Low_spent_Medium_value_payments</td>\n",
       "      <td>331.2098628537912</td>\n",
       "      <td>Good</td>\n",
       "    </tr>\n",
       "    <tr>\n",
       "      <th>3</th>\n",
       "      <td>0x1605</td>\n",
       "      <td>CUS_0xd40</td>\n",
       "      <td>April</td>\n",
       "      <td>Aaron Maashoh</td>\n",
       "      <td>23</td>\n",
       "      <td>821-00-0265</td>\n",
       "      <td>Scientist</td>\n",
       "      <td>19114.12</td>\n",
       "      <td>NaN</td>\n",
       "      <td>3</td>\n",
       "      <td>...</td>\n",
       "      <td>Good</td>\n",
       "      <td>809.98</td>\n",
       "      <td>31.377862</td>\n",
       "      <td>22 Years and 4 Months</td>\n",
       "      <td>No</td>\n",
       "      <td>49.574949</td>\n",
       "      <td>199.4580743910713</td>\n",
       "      <td>Low_spent_Small_value_payments</td>\n",
       "      <td>223.45130972736786</td>\n",
       "      <td>Good</td>\n",
       "    </tr>\n",
       "    <tr>\n",
       "      <th>4</th>\n",
       "      <td>0x1606</td>\n",
       "      <td>CUS_0xd40</td>\n",
       "      <td>May</td>\n",
       "      <td>Aaron Maashoh</td>\n",
       "      <td>23</td>\n",
       "      <td>821-00-0265</td>\n",
       "      <td>Scientist</td>\n",
       "      <td>19114.12</td>\n",
       "      <td>1824.843333</td>\n",
       "      <td>3</td>\n",
       "      <td>...</td>\n",
       "      <td>Good</td>\n",
       "      <td>809.98</td>\n",
       "      <td>24.797347</td>\n",
       "      <td>22 Years and 5 Months</td>\n",
       "      <td>No</td>\n",
       "      <td>49.574949</td>\n",
       "      <td>41.420153086217326</td>\n",
       "      <td>High_spent_Medium_value_payments</td>\n",
       "      <td>341.48923103222177</td>\n",
       "      <td>Good</td>\n",
       "    </tr>\n",
       "  </tbody>\n",
       "</table>\n",
       "<p>5 rows × 28 columns</p>\n",
       "</div>"
      ],
      "text/plain": [
       "       ID Customer_ID     Month           Name   Age          SSN Occupation  \\\n",
       "0  0x1602   CUS_0xd40   January  Aaron Maashoh    23  821-00-0265  Scientist   \n",
       "1  0x1603   CUS_0xd40  February  Aaron Maashoh    23  821-00-0265  Scientist   \n",
       "2  0x1604   CUS_0xd40     March  Aaron Maashoh  -500  821-00-0265  Scientist   \n",
       "3  0x1605   CUS_0xd40     April  Aaron Maashoh    23  821-00-0265  Scientist   \n",
       "4  0x1606   CUS_0xd40       May  Aaron Maashoh    23  821-00-0265  Scientist   \n",
       "\n",
       "  Annual_Income  Monthly_Inhand_Salary  Num_Bank_Accounts  ...  Credit_Mix  \\\n",
       "0      19114.12            1824.843333                  3  ...           _   \n",
       "1      19114.12                    NaN                  3  ...        Good   \n",
       "2      19114.12                    NaN                  3  ...        Good   \n",
       "3      19114.12                    NaN                  3  ...        Good   \n",
       "4      19114.12            1824.843333                  3  ...        Good   \n",
       "\n",
       "   Outstanding_Debt Credit_Utilization_Ratio     Credit_History_Age  \\\n",
       "0            809.98                26.822620  22 Years and 1 Months   \n",
       "1            809.98                31.944960                    NaN   \n",
       "2            809.98                28.609352  22 Years and 3 Months   \n",
       "3            809.98                31.377862  22 Years and 4 Months   \n",
       "4            809.98                24.797347  22 Years and 5 Months   \n",
       "\n",
       "   Payment_of_Min_Amount Total_EMI_per_month Amount_invested_monthly  \\\n",
       "0                     No           49.574949       80.41529543900253   \n",
       "1                     No           49.574949      118.28022162236736   \n",
       "2                     No           49.574949         81.699521264648   \n",
       "3                     No           49.574949       199.4580743910713   \n",
       "4                     No           49.574949      41.420153086217326   \n",
       "\n",
       "                  Payment_Behaviour     Monthly_Balance Credit_Score  \n",
       "0   High_spent_Small_value_payments  312.49408867943663         Good  \n",
       "1    Low_spent_Large_value_payments  284.62916249607184         Good  \n",
       "2   Low_spent_Medium_value_payments   331.2098628537912         Good  \n",
       "3    Low_spent_Small_value_payments  223.45130972736786         Good  \n",
       "4  High_spent_Medium_value_payments  341.48923103222177         Good  \n",
       "\n",
       "[5 rows x 28 columns]"
      ]
     },
     "execution_count": 86,
     "metadata": {},
     "output_type": "execute_result"
    }
   ],
   "source": [
    "# Read the csv file into pandas Dataframe\n",
    "credit_data = pd.read_csv('Resources/credit_data.csv')\n",
    "credit_data.head()"
   ]
  },
  {
   "cell_type": "code",
   "execution_count": 87,
   "metadata": {},
   "outputs": [
    {
     "data": {
      "text/plain": [
       "Index(['id', 'customer_id', 'month', 'name', 'age', 'ssn', 'occupation',\n",
       "       'annual_income', 'monthly_inhand_salary', 'num_bank_accounts',\n",
       "       'num_credit_card', 'interest_rate', 'num_of_loan', 'type_of_loan',\n",
       "       'delay_from_due_date', 'num_of_delayed_payment', 'changed_credit_limit',\n",
       "       'num_credit_inquiries', 'credit_mix', 'outstanding_debt',\n",
       "       'credit_utilization_ratio', 'credit_history_age',\n",
       "       'payment_of_min_amount', 'total_emi_per_month',\n",
       "       'amount_invested_monthly', 'payment_behaviour', 'monthly_balance',\n",
       "       'credit_score'],\n",
       "      dtype='object')"
      ]
     },
     "execution_count": 87,
     "metadata": {},
     "output_type": "execute_result"
    }
   ],
   "source": [
    "## Basic formatting for ease of use/prevent errors\n",
    "\n",
    "# Lowercase for all headings\n",
    "credit_data.columns = credit_data.columns.str.lower()\n",
    "credit_data.columns"
   ]
  },
  {
   "cell_type": "code",
   "execution_count": null,
   "metadata": {},
   "outputs": [],
   "source": [
    "## Get an understanding the data\n",
    "# credit_data.info()"
   ]
  },
  {
   "cell_type": "code",
   "execution_count": null,
   "metadata": {},
   "outputs": [],
   "source": [
    "## Drop columns that aren't necessary\n",
    "\n",
    "# 'ID' is persons ID, arbitrary, not predictive in credit scoring, not required\n",
    "# 'Customer_ID' as above\n",
    "# 'Name' as above\n",
    "# 'SSN' as above\n",
    "\n",
    "credit_data_1 = credit_data.drop(columns=[\"id\", \"customer_id\", \"name\", \"ssn\"])\n",
    "credit_data_1.head()"
   ]
  },
  {
   "cell_type": "markdown",
   "metadata": {},
   "source": [
    "### Preprocessing\n",
    "\n",
    "##### Working through each columns to understand anomalous values, and alter or delete as appropriate"
   ]
  },
  {
   "cell_type": "code",
   "execution_count": 89,
   "metadata": {},
   "outputs": [
    {
     "ename": "KeyError",
     "evalue": "Index(['id'], dtype='object')",
     "output_type": "error",
     "traceback": [
      "\u001b[1;31m---------------------------------------------------------------------------\u001b[0m",
      "\u001b[1;31mKeyError\u001b[0m                                  Traceback (most recent call last)",
      "\u001b[1;32m<ipython-input-89-837f95af46e9>\u001b[0m in \u001b[0;36m<module>\u001b[1;34m\u001b[0m\n\u001b[0;32m      1\u001b[0m \u001b[1;31m# Identify duplicates by SSN\u001b[0m\u001b[1;33m\u001b[0m\u001b[1;33m\u001b[0m\u001b[1;33m\u001b[0m\u001b[0m\n\u001b[0;32m      2\u001b[0m \u001b[1;33m\u001b[0m\u001b[0m\n\u001b[1;32m----> 3\u001b[1;33m \u001b[0mcredit_data_1\u001b[0m\u001b[1;33m[\u001b[0m\u001b[0mcredit_data_1\u001b[0m\u001b[1;33m.\u001b[0m\u001b[0mduplicated\u001b[0m\u001b[1;33m(\u001b[0m\u001b[1;33m[\u001b[0m\u001b[1;34m'id'\u001b[0m\u001b[1;33m]\u001b[0m\u001b[1;33m)\u001b[0m\u001b[1;33m]\u001b[0m\u001b[1;33m\u001b[0m\u001b[1;33m\u001b[0m\u001b[0m\n\u001b[0m",
      "\u001b[1;32mc:\\Users\\Steve\\anaconda3\\envs\\PythonAdv\\lib\\site-packages\\pandas\\core\\frame.py\u001b[0m in \u001b[0;36mduplicated\u001b[1;34m(self, subset, keep)\u001b[0m\n\u001b[0;32m   5246\u001b[0m         \u001b[0mdiff\u001b[0m \u001b[1;33m=\u001b[0m \u001b[0mIndex\u001b[0m\u001b[1;33m(\u001b[0m\u001b[0msubset\u001b[0m\u001b[1;33m)\u001b[0m\u001b[1;33m.\u001b[0m\u001b[0mdifference\u001b[0m\u001b[1;33m(\u001b[0m\u001b[0mself\u001b[0m\u001b[1;33m.\u001b[0m\u001b[0mcolumns\u001b[0m\u001b[1;33m)\u001b[0m\u001b[1;33m\u001b[0m\u001b[1;33m\u001b[0m\u001b[0m\n\u001b[0;32m   5247\u001b[0m         \u001b[1;32mif\u001b[0m \u001b[1;32mnot\u001b[0m \u001b[0mdiff\u001b[0m\u001b[1;33m.\u001b[0m\u001b[0mempty\u001b[0m\u001b[1;33m:\u001b[0m\u001b[1;33m\u001b[0m\u001b[1;33m\u001b[0m\u001b[0m\n\u001b[1;32m-> 5248\u001b[1;33m             \u001b[1;32mraise\u001b[0m \u001b[0mKeyError\u001b[0m\u001b[1;33m(\u001b[0m\u001b[0mdiff\u001b[0m\u001b[1;33m)\u001b[0m\u001b[1;33m\u001b[0m\u001b[1;33m\u001b[0m\u001b[0m\n\u001b[0m\u001b[0;32m   5249\u001b[0m \u001b[1;33m\u001b[0m\u001b[0m\n\u001b[0;32m   5250\u001b[0m         \u001b[0mvals\u001b[0m \u001b[1;33m=\u001b[0m \u001b[1;33m(\u001b[0m\u001b[0mcol\u001b[0m\u001b[1;33m.\u001b[0m\u001b[0mvalues\u001b[0m \u001b[1;32mfor\u001b[0m \u001b[0mname\u001b[0m\u001b[1;33m,\u001b[0m \u001b[0mcol\u001b[0m \u001b[1;32min\u001b[0m \u001b[0mself\u001b[0m\u001b[1;33m.\u001b[0m\u001b[0mitems\u001b[0m\u001b[1;33m(\u001b[0m\u001b[1;33m)\u001b[0m \u001b[1;32mif\u001b[0m \u001b[0mname\u001b[0m \u001b[1;32min\u001b[0m \u001b[0msubset\u001b[0m\u001b[1;33m)\u001b[0m\u001b[1;33m\u001b[0m\u001b[1;33m\u001b[0m\u001b[0m\n",
      "\u001b[1;31mKeyError\u001b[0m: Index(['id'], dtype='object')"
     ]
    }
   ],
   "source": [
    "# Identify duplicates by SSN \n",
    "\n",
    "credit_data_1[credit_data_1.duplicated(['id'])]"
   ]
  },
  {
   "cell_type": "code",
   "execution_count": null,
   "metadata": {},
   "outputs": [],
   "source": [
    "## AGE\n",
    "\n",
    "# Understand the range of ages, and if age values make sense\n",
    "credit_data_1[\"age\"].value_counts().sort_index().head(20)\n",
    "\n",
    "# From perusal of column data, can see many values include'_'.\n",
    "# Count how many rows with an underscore\n",
    "US_credit_data_1 = credit_data_1[\"age\"].str.contains('_').sum()\n",
    "print(f\"{US_credit_data_1} out of 100k rows, have a string, 4%\")\n",
    "\n",
    "# Remove underscore '_'\n",
    "# credit_data_1.loc[credit_data_1[\"age\"] == \"_\", \"age\"] = \"\"\n",
    "    # code for where value is '_' only, not part of value is '_'\n",
    "# Code to replace '_' with \"\"\n",
    "credit_data_1[\"age\"] = credit_data_1[\"age\"].str.replace(\"_\", \"\")\n",
    "\n",
    "# Try changing all values to numeric. Will prove no more anomalous values\n",
    "credit_data_1[\"age\"] = pd.to_numeric(credit_data_1[\"age\"])\n",
    "f\"Able to convert all values to numeric, suggesting, no more anomalous values\"\n"
   ]
  },
  {
   "cell_type": "code",
   "execution_count": null,
   "metadata": {},
   "outputs": [],
   "source": [
    "## Many ages > 85 and <14 (assuming 14 is universal age ppl are allowed to be officially employed)\n",
    "# Count how many values are <18 and >90, as unlikely to be seeking loans.\n",
    "# If insignificant, can delete rows\n",
    "credit_data_2 = credit_data_1.loc[(credit_data_1[\"age\"] < 14) | (credit_data_1[\"age\"] > 85)]\n",
    "print(credit_data_2[\"age\"].describe())\n",
    "length_18_85 = len(credit_data_2[\"age\"])\n",
    "f\"{length_18_85} of 100k values are <14 & >85. Will be deleted\"\n",
    "\n",
    "# DF updated to exclude <14 and >85\n",
    "credit_data_3 = credit_data_1.loc[(credit_data_1[\"age\"] > 14) & (credit_data_1[\"age\"] < 85)]\n"
   ]
  },
  {
   "cell_type": "code",
   "execution_count": null,
   "metadata": {},
   "outputs": [],
   "source": [
    "## MONTH\n",
    "\n",
    "credit_data_3[\"month\"].value_counts()\n",
    "# Data included from Jan - July.\n",
    "# No anomalous entries.\n",
    "# Data OK"
   ]
  },
  {
   "cell_type": "code",
   "execution_count": null,
   "metadata": {},
   "outputs": [],
   "source": [
    "## OCCUPATION\n",
    "\n",
    "credit_data_3[\"occupation\"].value_counts()\n",
    "\n",
    "# credit_data_1[\"occupation\"].value_counts().sum()\n",
    "# 7% of ppl don't have a recorded occupation.\n",
    "\n",
    "# Will either convert \"_______\" (as copied from results below) Other.\n",
    "credit_data_3.loc[credit_data_3[\"occupation\"] == \"_______\", \"occupation\"] = \"Other\"\n",
    "# credit_data_3"
   ]
  },
  {
   "cell_type": "code",
   "execution_count": null,
   "metadata": {},
   "outputs": [],
   "source": [
    "## ANNUAL INCOME\n",
    "\n",
    "credit_data_3[\"annual_income\"].value_counts()\n",
    "# There are strings of '_' in income. Need to delete, use code as above.\n",
    "credit_data_3[\"annual_income\"] = credit_data_3[\"annual_income\"].str.replace(\"_\", \"\")\n",
    "\n",
    "# Convert to numeric\n",
    "credit_data_3[\"annual_income\"] = pd.to_numeric(credit_data_3[\"annual_income\"])\n",
    "\n",
    "# credit_data_3[\"annual_income\"].describe()\n",
    "# Count matches DF length, data OK.\n"
   ]
  },
  {
   "cell_type": "code",
   "execution_count": null,
   "metadata": {},
   "outputs": [],
   "source": [
    "## MONTHLY INCOME\n",
    "\n",
    "credit_data_3[\"monthly_inhand_salary\"].value_counts()\n",
    "\n",
    "# Convert to numeric\n",
    "credit_data_3[\"monthly_inhand_salary\"] = pd.to_numeric(credit_data_3[\"monthly_inhand_salary\"])\n",
    "\n",
    "# Data OK"
   ]
  },
  {
   "cell_type": "code",
   "execution_count": null,
   "metadata": {},
   "outputs": [],
   "source": [
    "## NUM OF BANK ACCS\n",
    "\n",
    "credit_data_3[\"num_bank_accounts\"].value_counts()\n",
    "# Shows values in the 1000s, intuitively wrong, unlikely for a person to have 1000 bank accounts.\n",
    "\n",
    "# Count number of values with banks accounuts > than 20\n",
    "bank_acc_20plus = credit_data_3.loc[(credit_data_3[\"num_bank_accounts\"] > 20)]\n",
    "print(bank_acc_20plus[\"num_bank_accounts\"].describe())\n",
    "f\"1274 of 100k values, will be deleted\"\n",
    "\n",
    "credit_data_4 = credit_data_3.loc[(credit_data_3[\"num_bank_accounts\"] < 20)]\n",
    "\n",
    "# Convert to numeric\n",
    "credit_data_4[\"num_bank_accounts\"] = pd.to_numeric(credit_data_4[\"num_bank_accounts\"])\n"
   ]
  },
  {
   "cell_type": "code",
   "execution_count": null,
   "metadata": {},
   "outputs": [],
   "source": [
    "## NUM OF CREDIT CARDS\n",
    "\n",
    "credit_data_4[\"num_credit_card\"].value_counts()\n",
    "\n",
    "# Shows values in the 100s, intuitively wrong, unlikely for a person to have 100s of credit cards.\n",
    "\n",
    "# Count number of values with banks accounuts > than 10\n",
    "cc_10plus = credit_data_4.loc[(credit_data_4[\"num_credit_card\"] > 10)]\n",
    "print(cc_10plus[\"num_credit_card\"].describe())\n",
    "f\"2194 of 100k values, will be deleted\"\n",
    "\n",
    "credit_data_5 = credit_data_4.loc[(credit_data_4[\"num_credit_card\"] <= 10)]\n",
    "\n",
    "# Convert to numeric\n",
    "credit_data_5[\"num_credit_card\"] = pd.to_numeric(credit_data_5[\"num_credit_card\"])"
   ]
  },
  {
   "cell_type": "code",
   "execution_count": null,
   "metadata": {},
   "outputs": [],
   "source": [
    "## INTEREST_RATE\n",
    "\n",
    "credit_data_5[\"interest_rate\"].value_counts()\n",
    "\n",
    "# Shows values in the 100s, unlikely that interest rates would be >50% on credit cards.\n",
    "\n",
    "# Count number of values with banks accounuts > than 10\n",
    "ir_30plus = credit_data_5.loc[(credit_data_5[\"interest_rate\"] > 50)]\n",
    "print(ir_30plus[\"interest_rate\"].describe())\n",
    "f\"1899 of 100k values, will be deleted\"\n",
    "\n",
    "credit_data_6 = credit_data_5.loc[(credit_data_5[\"interest_rate\"] <= 50)]\n",
    "\n",
    "# Convert to numeric\n",
    "credit_data_6[\"interest_rate\"] = pd.to_numeric(credit_data_6[\"interest_rate\"])"
   ]
  },
  {
   "cell_type": "code",
   "execution_count": null,
   "metadata": {},
   "outputs": [],
   "source": [
    "## NUM_OF_LOAN\n",
    "\n",
    "credit_data_6[\"num_of_loan\"].value_counts()\n",
    "credit_data_6[\"num_of_loan\"].describe()\n",
    "credit_data_6[\"num_of_loan\"].min()\n",
    "# Count number of values < 0\n",
    "# loan_less0 = credit_data_6.loc[(credit_data_6[\"num_of_loan\"] < 0)]\n",
    "# Above code has strings in it. Assume its same string as before '_', delete this string.\n",
    "credit_data_6[\"num_of_loan\"] = credit_data_6[\"num_of_loan\"].str.replace(\"_\", \"\")\n",
    "\n",
    "# Convert data to numeric\n",
    "credit_data_6[\"num_of_loan\"] = pd.to_numeric(credit_data_6[\"num_of_loan\"])\n"
   ]
  },
  {
   "cell_type": "code",
   "execution_count": null,
   "metadata": {},
   "outputs": [],
   "source": [
    "loan_less0 = credit_data_6.loc[(credit_data_6[\"num_of_loan\"] < 0)]\n",
    "# loan_less0[\"num_of_loan\"].describe()\n",
    "f\"3512 of 100k values, will be deleted\"\n",
    "\n",
    "credit_data_7 = credit_data_6.loc[(credit_data_6[\"interest_rate\"] >= 0)]"
   ]
  },
  {
   "cell_type": "code",
   "execution_count": null,
   "metadata": {},
   "outputs": [],
   "source": [
    "## TYPE OF LOAN\n",
    "\n",
    "credit_data_7[\"type_of_loan\"].value_counts()\n",
    "# Shows there are many values with nil, due to person having 0 loans.\n",
    "# Replace blank values, with 'None'\n",
    "latest = credit_data_7[\"type_of_loan\"].fillna(\"None\", inplace = True)\n",
    "\n"
   ]
  },
  {
   "cell_type": "code",
   "execution_count": null,
   "metadata": {},
   "outputs": [],
   "source": [
    "## DELAY FROM DUE DATE\n",
    "\n",
    "credit_data_7[\"delay_from_due_date\"].value_counts()\n",
    "# no anomalous figures. -ve values represent payments in advance."
   ]
  },
  {
   "cell_type": "code",
   "execution_count": null,
   "metadata": {},
   "outputs": [],
   "source": [
    "## NUM OF DELAYED PAYMENT\n",
    "\n",
    "credit_data_7[\"num_of_delayed_payment\"].value_counts()\n",
    "credit_data_7[\"num_of_delayed_payment\"].describe()\n",
    "\n",
    "# From perusal, there are erroneous strings, remove\n",
    "credit_data_7[\"num_of_delayed_payment\"] = credit_data_7[\"num_of_delayed_payment\"].str.replace(\"_\", \"\")\n",
    "\n",
    "# Replace blank values with 0 integer, to ability to calculate as a factor later\n",
    "credit_data_7[\"num_of_delayed_payment\"] = credit_data_7[\"num_of_delayed_payment\"].fillna(0)\n",
    "\n",
    "# Convert data to numeric\n",
    "credit_data_7[\"num_of_delayed_payment\"] = pd.to_numeric(credit_data_7[\"num_of_delayed_payment\"])\n"
   ]
  },
  {
   "cell_type": "code",
   "execution_count": null,
   "metadata": {},
   "outputs": [],
   "source": [
    "## CHANGED CREDIT LIMIT\n",
    "\n",
    "credit_data_7[\"changed_credit_limit\"].value_counts()\n",
    "credit_data_7[\"changed_credit_limit\"].describe()\n",
    "\n",
    "# From perusal, there are erroneous strings, remove\n",
    "credit_data_7[\"changed_credit_limit\"] = credit_data_7[\"changed_credit_limit\"].str.replace(\"_\", \"\")\n",
    "\n",
    "# Replace blank values with 0 integer, to ability to calculate as a factor later\n",
    "credit_data_7[\"changed_credit_limit\"] = credit_data_7[\"changed_credit_limit\"].fillna(0)"
   ]
  },
  {
   "cell_type": "code",
   "execution_count": null,
   "metadata": {},
   "outputs": [],
   "source": [
    "## NUM OF CREDIT INQUIRIES\n",
    "\n",
    "credit_data_7[\"num_credit_inquiries\"].value_counts()\n",
    "credit_data_7[\"num_credit_inquiries\"].describe()\n",
    "\n",
    "# Replace blank values with 0 integer, to ability to calculate as a factor later\n",
    "credit_data_7[\"num_credit_inquiries\"] = credit_data_7[\"num_credit_inquiries\"].fillna(0)\n",
    "\n",
    "# Len same as DF whole, suggesting, all records (rows) have a value.\n",
    "\n",
    "# Convert data to numeric\n",
    "credit_data_7[\"num_credit_inquiries\"] = pd.to_numeric(credit_data_7[\"num_credit_inquiries\"])"
   ]
  },
  {
   "cell_type": "code",
   "execution_count": null,
   "metadata": {},
   "outputs": [],
   "source": [
    "## CREDTI MIX\n",
    "\n",
    "credit_data_7[\"credit_mix\"].value_counts()\n",
    "# credit_data_7[\"credit_mix\"].describe()\n",
    "\n",
    "# Replace blank values with 0 integer, to ability to calculate as a factor later\n",
    "# credit_data_7[\"credit_mix\"] = credit_data_7[\"credit_mix\"].fillna(0)\n",
    "\n",
    "# From value_counts, 1 category is '_', replace with 'None'\n",
    "credit_data_7[\"credit_mix\"] = credit_data_7[\"credit_mix\"].str.replace(\"_\", \"None\")"
   ]
  },
  {
   "cell_type": "code",
   "execution_count": null,
   "metadata": {},
   "outputs": [],
   "source": [
    "## OUTSTANDING DEBT\n",
    "\n",
    "credit_data_7[\"outstanding_debt\"].value_counts()\n",
    "# credit_data_7[\"credit_mix\"].describe()\n",
    "\n",
    "# From perusal, there are erroneous strings, remove\n",
    "credit_data_7[\"outstanding_debt\"] = credit_data_7[\"outstanding_debt\"].str.replace(\"_\", \"\")\n",
    "\n",
    "# Convert column to numeric\n",
    "credit_data_7[\"outstanding_debt\"] = pd.to_numeric(credit_data_7[\"outstanding_debt\"])\n"
   ]
  },
  {
   "cell_type": "code",
   "execution_count": null,
   "metadata": {},
   "outputs": [],
   "source": [
    "## CREDIT UTILIZATION RATIO\n",
    "\n",
    "credit_data_7[\"credit_utilization_ratio\"].value_counts()\n",
    "\n",
    "# Convert column to numeric\n",
    "credit_data_7[\"credit_utilization_ratio\"] = pd.to_numeric(credit_data_7[\"credit_utilization_ratio\"])\n"
   ]
  },
  {
   "cell_type": "code",
   "execution_count": null,
   "metadata": {},
   "outputs": [],
   "source": [
    "## CREDIT HISTORY AGE\n",
    "\n",
    "credit_data_7[\"credit_history_age\"].value_counts()\n",
    "\n",
    "# Replace blank values with 0 integer, to ability to calculate as a factor later\n",
    "credit_data_7[\"credit_history_age\"] = credit_data_7[\"credit_history_age\"].fillna(\"0\")"
   ]
  },
  {
   "cell_type": "code",
   "execution_count": null,
   "metadata": {},
   "outputs": [],
   "source": [
    "# Split credit_history_age into seperate columns, to perform: numeric, calcs and amalgamation, for later ML calcs\n",
    "credit_data_7[[\"credit_history_age_year\", \"ystr\", \"andstr\", \"credit_history_age_month\", \"mstr\"]] = credit_data_7.credit_history_age.str.split(\" \", expand = True)"
   ]
  },
  {
   "cell_type": "code",
   "execution_count": null,
   "metadata": {},
   "outputs": [],
   "source": [
    "# Drop redundant columns, \n",
    "credit_data_8 = credit_data_7.drop(columns=[\"credit_history_age\", \"ystr\", \"andstr\", \"mstr\"], axis = 1)"
   ]
  },
  {
   "cell_type": "code",
   "execution_count": null,
   "metadata": {},
   "outputs": [],
   "source": [
    "# Convert year and month to numeric\n",
    "credit_data_8[\"credit_history_age_year\"] = pd.to_numeric(credit_data_8[\"credit_history_age_year\"])\n",
    "credit_data_8[\"credit_history_age_month\"] = pd.to_numeric(credit_data_8[\"credit_history_age_month\"])\n"
   ]
  },
  {
   "cell_type": "code",
   "execution_count": null,
   "metadata": {},
   "outputs": [],
   "source": [
    "# Convert month nominal to decimal (i.e /12)\n",
    "months = credit_data_8[\"credit_history_age_month\"]/12\n",
    "credit_data_8[\"credit_history_age_mnthdec\"] = months"
   ]
  },
  {
   "cell_type": "code",
   "execution_count": null,
   "metadata": {},
   "outputs": [],
   "source": [
    "# Concactenate\n",
    "history_age = credit_data_8[\"credit_history_age_year\"] + credit_data_8[\"credit_history_age_mnthdec\"]\n",
    "credit_data_8[\"credit_history_age_new\"] = history_age\n",
    "# credit_data_8[\"credit_history_age_new\"]\n"
   ]
  },
  {
   "cell_type": "code",
   "execution_count": null,
   "metadata": {},
   "outputs": [],
   "source": [
    "# Drop redundant columns (split and decimals calcs)\n",
    "credit_data_9 = credit_data_8.drop(columns=[\"credit_history_age_year\", \"credit_history_age_month\", \"credit_history_age_mnthdec\"], axis = 1)\n",
    "credit_data_9"
   ]
  },
  {
   "cell_type": "code",
   "execution_count": null,
   "metadata": {},
   "outputs": [],
   "source": [
    "## PAYMENT OF MIN AMOUNT\n",
    "\n",
    "credit_data_9[\"payment_of_min_amount\"].value_counts()\n",
    "\n",
    "# Convert year and month to numeric\n",
    "credit_data_9[\"payment_of_min_amount\"] = pd.to_numeric(credit_data_9[\"payment_of_min_amount\"])\n",
    "\n",
    "# Data OK"
   ]
  },
  {
   "cell_type": "code",
   "execution_count": null,
   "metadata": {},
   "outputs": [],
   "source": [
    "## TOTAL EMI PER MONTH\n",
    "\n",
    "credit_data_9[\"total_emi_per_month\"].value_counts()\n",
    "\n",
    "# Convert to numeric\n",
    "credit_data_9[\"total_emi_per_month\"] = pd.to_numeric(credit_data_9[\"total_emi_per_month\"])\n",
    "\n",
    "# Data OK"
   ]
  },
  {
   "cell_type": "code",
   "execution_count": null,
   "metadata": {},
   "outputs": [],
   "source": [
    "## AMOUNT INVESTED MONTHLY\n",
    "\n",
    "credit_data_9[\"amount_invested_monthly\"].value_counts()\n",
    "\n",
    "# Remove strings\n",
    "credit_data_9[\"amount_invested_monthly\"] = credit_data_9[\"amount_invested_monthly\"].str.replace(\"_\", \"\")\n",
    "\n",
    "# Convert to numeric\n",
    "credit_data_9[\"amount_invested_monthly\"] = pd.to_numeric(credit_data_9[\"amount_invested_monthly\"])\n",
    "credit_data_9[\"amount_invested_monthly\"]\n",
    "# Data OK"
   ]
  },
  {
   "cell_type": "code",
   "execution_count": null,
   "metadata": {},
   "outputs": [],
   "source": [
    "## MONTHLY BALANCE\n",
    "\n",
    "credit_data_9[\"monthly_balance\"].value_counts()\n",
    "\n",
    "credit_data_9[\"monthly_balance\"] = credit_data_9[\"monthly_balance\"].str.replace(\"-333333333333333333333333333\", \"\")\n",
    "credit_data_9[\"monthly_balance\"] = credit_data_9[\"monthly_balance\"].str.replace(\"_\", \"\")\n",
    "\n",
    "# Pandas doesn't recognise empty string (i.e. blank cells). \n",
    "# Pandas will recognise a value as null if it is a np.nan.\n",
    "# Covnert empty strings to np.nan. Then convert to 0\n",
    "credit_data_9[\"monthly_balance\"] = credit_data_9[\"monthly_balance\"].replace('', np.nan)\n",
    "\n",
    "# Replace NaN with 0\n",
    "credit_data_9[\"monthly_balance\"] = credit_data_9[\"monthly_balance\"].fillna(0)\n",
    "\n",
    "# Convert to numeric\n",
    "credit_data_9[\"monthly_balance\"] = pd.to_numeric(credit_data_9[\"monthly_balance\"])\n"
   ]
  },
  {
   "cell_type": "code",
   "execution_count": null,
   "metadata": {},
   "outputs": [],
   "source": [
    "## CREDIT SCORE\n",
    "\n",
    "credit_data_9[\"credit_score\"].value_counts()"
   ]
  },
  {
   "cell_type": "code",
   "execution_count": null,
   "metadata": {},
   "outputs": [],
   "source": [
    "\n",
    "\n",
    "\n",
    "\n",
    "\n"
   ]
  },
  {
   "cell_type": "code",
   "execution_count": null,
   "metadata": {},
   "outputs": [],
   "source": [
    "# Remove values < 0\n",
    "loan_less0_1 = credit_data_9.loc[(credit_data_9[\"monthly_balance\"] < 0)]\n",
    "loan_less0_1[\"monthly_balance\"].describe()\n",
    "# f\"3512 of 100k values, will be deleted\"\n",
    "\n",
    "# credit_data_7 = credit_data_6.loc[(credit_data_6[\"interest_rate\"] >= 0)]"
   ]
  }
 ],
 "metadata": {
  "kernelspec": {
   "display_name": "Python 3.6.13 ('PythonAdv')",
   "language": "python",
   "name": "python3"
  },
  "language_info": {
   "codemirror_mode": {
    "name": "ipython",
    "version": 3
   },
   "file_extension": ".py",
   "mimetype": "text/x-python",
   "name": "python",
   "nbconvert_exporter": "python",
   "pygments_lexer": "ipython3",
   "version": "3.6.13"
  },
  "orig_nbformat": 4,
  "vscode": {
   "interpreter": {
    "hash": "5bb4ca3831663ff1b4146a6c72e25abd7d2e460849e0ebb6cffa622886d8f185"
   }
  }
 },
 "nbformat": 4,
 "nbformat_minor": 2
}
