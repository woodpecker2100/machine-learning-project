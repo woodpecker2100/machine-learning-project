{
 "cells": [
  {
   "cell_type": "code",
   "execution_count": 148,
   "metadata": {},
   "outputs": [],
   "source": [
    "%matplotlib inline\n",
    "import matplotlib.pyplot as plt\n",
    "import numpy as np\n",
    "import pandas as pd\n",
    "\n",
    "import warnings\n",
    "warnings.filterwarnings(\"ignore\")"
   ]
  },
  {
   "cell_type": "code",
   "execution_count": 149,
   "metadata": {},
   "outputs": [
    {
     "data": {
      "text/html": [
       "<div>\n",
       "<style scoped>\n",
       "    .dataframe tbody tr th:only-of-type {\n",
       "        vertical-align: middle;\n",
       "    }\n",
       "\n",
       "    .dataframe tbody tr th {\n",
       "        vertical-align: top;\n",
       "    }\n",
       "\n",
       "    .dataframe thead th {\n",
       "        text-align: right;\n",
       "    }\n",
       "</style>\n",
       "<table border=\"1\" class=\"dataframe\">\n",
       "  <thead>\n",
       "    <tr style=\"text-align: right;\">\n",
       "      <th></th>\n",
       "      <th>Unnamed: 0</th>\n",
       "      <th>month</th>\n",
       "      <th>age</th>\n",
       "      <th>occupation</th>\n",
       "      <th>annual_income</th>\n",
       "      <th>num_bank_accounts</th>\n",
       "      <th>num_credit_card</th>\n",
       "      <th>interest_rate</th>\n",
       "      <th>num_of_loan</th>\n",
       "      <th>type_of_loan</th>\n",
       "      <th>...</th>\n",
       "      <th>credit_mix</th>\n",
       "      <th>outstanding_debt</th>\n",
       "      <th>credit_utilization_ratio</th>\n",
       "      <th>payment_of_min_amount</th>\n",
       "      <th>total_emi_per_month</th>\n",
       "      <th>amount_invested_monthly</th>\n",
       "      <th>payment_behaviour</th>\n",
       "      <th>monthly_balance</th>\n",
       "      <th>credit_score</th>\n",
       "      <th>credit_history_age_new</th>\n",
       "    </tr>\n",
       "  </thead>\n",
       "  <tbody>\n",
       "    <tr>\n",
       "      <th>0</th>\n",
       "      <td>0</td>\n",
       "      <td>January</td>\n",
       "      <td>23</td>\n",
       "      <td>Scientist</td>\n",
       "      <td>19114.12</td>\n",
       "      <td>3</td>\n",
       "      <td>4</td>\n",
       "      <td>3</td>\n",
       "      <td>4</td>\n",
       "      <td>Auto Loan, Credit-Builder Loan, Personal Loan,...</td>\n",
       "      <td>...</td>\n",
       "      <td>None</td>\n",
       "      <td>809.98</td>\n",
       "      <td>26.822620</td>\n",
       "      <td>No</td>\n",
       "      <td>49.574949</td>\n",
       "      <td>80.415295</td>\n",
       "      <td>High_spent_Small_value_payments</td>\n",
       "      <td>312.494089</td>\n",
       "      <td>Good</td>\n",
       "      <td>22.083333333333332</td>\n",
       "    </tr>\n",
       "    <tr>\n",
       "      <th>1</th>\n",
       "      <td>1</td>\n",
       "      <td>February</td>\n",
       "      <td>23</td>\n",
       "      <td>Scientist</td>\n",
       "      <td>19114.12</td>\n",
       "      <td>3</td>\n",
       "      <td>4</td>\n",
       "      <td>3</td>\n",
       "      <td>4</td>\n",
       "      <td>Auto Loan, Credit-Builder Loan, Personal Loan,...</td>\n",
       "      <td>...</td>\n",
       "      <td>Good</td>\n",
       "      <td>809.98</td>\n",
       "      <td>31.944960</td>\n",
       "      <td>No</td>\n",
       "      <td>49.574949</td>\n",
       "      <td>118.280222</td>\n",
       "      <td>Low_spent_Large_value_payments</td>\n",
       "      <td>284.629162</td>\n",
       "      <td>Good</td>\n",
       "      <td>None</td>\n",
       "    </tr>\n",
       "    <tr>\n",
       "      <th>2</th>\n",
       "      <td>3</td>\n",
       "      <td>April</td>\n",
       "      <td>23</td>\n",
       "      <td>Scientist</td>\n",
       "      <td>19114.12</td>\n",
       "      <td>3</td>\n",
       "      <td>4</td>\n",
       "      <td>3</td>\n",
       "      <td>4</td>\n",
       "      <td>Auto Loan, Credit-Builder Loan, Personal Loan,...</td>\n",
       "      <td>...</td>\n",
       "      <td>Good</td>\n",
       "      <td>809.98</td>\n",
       "      <td>31.377862</td>\n",
       "      <td>No</td>\n",
       "      <td>49.574949</td>\n",
       "      <td>199.458074</td>\n",
       "      <td>Low_spent_Small_value_payments</td>\n",
       "      <td>223.451310</td>\n",
       "      <td>Good</td>\n",
       "      <td>22.333333333333332</td>\n",
       "    </tr>\n",
       "    <tr>\n",
       "      <th>3</th>\n",
       "      <td>4</td>\n",
       "      <td>May</td>\n",
       "      <td>23</td>\n",
       "      <td>Scientist</td>\n",
       "      <td>19114.12</td>\n",
       "      <td>3</td>\n",
       "      <td>4</td>\n",
       "      <td>3</td>\n",
       "      <td>4</td>\n",
       "      <td>Auto Loan, Credit-Builder Loan, Personal Loan,...</td>\n",
       "      <td>...</td>\n",
       "      <td>Good</td>\n",
       "      <td>809.98</td>\n",
       "      <td>24.797347</td>\n",
       "      <td>No</td>\n",
       "      <td>49.574949</td>\n",
       "      <td>41.420153</td>\n",
       "      <td>High_spent_Medium_value_payments</td>\n",
       "      <td>341.489231</td>\n",
       "      <td>Good</td>\n",
       "      <td>22.416666666666668</td>\n",
       "    </tr>\n",
       "    <tr>\n",
       "      <th>4</th>\n",
       "      <td>5</td>\n",
       "      <td>June</td>\n",
       "      <td>23</td>\n",
       "      <td>Scientist</td>\n",
       "      <td>19114.12</td>\n",
       "      <td>3</td>\n",
       "      <td>4</td>\n",
       "      <td>3</td>\n",
       "      <td>4</td>\n",
       "      <td>Auto Loan, Credit-Builder Loan, Personal Loan,...</td>\n",
       "      <td>...</td>\n",
       "      <td>Good</td>\n",
       "      <td>809.98</td>\n",
       "      <td>27.262259</td>\n",
       "      <td>No</td>\n",
       "      <td>49.574949</td>\n",
       "      <td>62.430172</td>\n",
       "      <td>Other</td>\n",
       "      <td>340.479212</td>\n",
       "      <td>Good</td>\n",
       "      <td>22.5</td>\n",
       "    </tr>\n",
       "  </tbody>\n",
       "</table>\n",
       "<p>5 rows × 24 columns</p>\n",
       "</div>"
      ],
      "text/plain": [
       "   Unnamed: 0     month  age occupation  annual_income  num_bank_accounts  \\\n",
       "0           0   January   23  Scientist       19114.12                  3   \n",
       "1           1  February   23  Scientist       19114.12                  3   \n",
       "2           3     April   23  Scientist       19114.12                  3   \n",
       "3           4       May   23  Scientist       19114.12                  3   \n",
       "4           5      June   23  Scientist       19114.12                  3   \n",
       "\n",
       "   num_credit_card  interest_rate  num_of_loan  \\\n",
       "0                4              3            4   \n",
       "1                4              3            4   \n",
       "2                4              3            4   \n",
       "3                4              3            4   \n",
       "4                4              3            4   \n",
       "\n",
       "                                        type_of_loan  ...  credit_mix  \\\n",
       "0  Auto Loan, Credit-Builder Loan, Personal Loan,...  ...        None   \n",
       "1  Auto Loan, Credit-Builder Loan, Personal Loan,...  ...        Good   \n",
       "2  Auto Loan, Credit-Builder Loan, Personal Loan,...  ...        Good   \n",
       "3  Auto Loan, Credit-Builder Loan, Personal Loan,...  ...        Good   \n",
       "4  Auto Loan, Credit-Builder Loan, Personal Loan,...  ...        Good   \n",
       "\n",
       "   outstanding_debt  credit_utilization_ratio  payment_of_min_amount  \\\n",
       "0            809.98                 26.822620                     No   \n",
       "1            809.98                 31.944960                     No   \n",
       "2            809.98                 31.377862                     No   \n",
       "3            809.98                 24.797347                     No   \n",
       "4            809.98                 27.262259                     No   \n",
       "\n",
       "  total_emi_per_month  amount_invested_monthly  \\\n",
       "0           49.574949                80.415295   \n",
       "1           49.574949               118.280222   \n",
       "2           49.574949               199.458074   \n",
       "3           49.574949                41.420153   \n",
       "4           49.574949                62.430172   \n",
       "\n",
       "                  payment_behaviour monthly_balance  credit_score  \\\n",
       "0   High_spent_Small_value_payments      312.494089          Good   \n",
       "1    Low_spent_Large_value_payments      284.629162          Good   \n",
       "2    Low_spent_Small_value_payments      223.451310          Good   \n",
       "3  High_spent_Medium_value_payments      341.489231          Good   \n",
       "4                             Other      340.479212          Good   \n",
       "\n",
       "   credit_history_age_new  \n",
       "0      22.083333333333332  \n",
       "1                    None  \n",
       "2      22.333333333333332  \n",
       "3      22.416666666666668  \n",
       "4                    22.5  \n",
       "\n",
       "[5 rows x 24 columns]"
      ]
     },
     "execution_count": 149,
     "metadata": {},
     "output_type": "execute_result"
    }
   ],
   "source": [
    "# Read the csv file into pandas Dataframe\n",
    "credit_data_df = pd.read_csv('Resources/credit_data_cleaned.csv')\n",
    "credit_data_df.head()\n"
   ]
  },
  {
   "cell_type": "code",
   "execution_count": 150,
   "metadata": {},
   "outputs": [
    {
     "data": {
      "text/plain": [
       "Unnamed: 0                  90677\n",
       "month                           8\n",
       "age                            42\n",
       "occupation                     16\n",
       "annual_income               13301\n",
       "num_bank_accounts              14\n",
       "num_credit_card                11\n",
       "interest_rate                  34\n",
       "num_of_loan                   379\n",
       "type_of_loan                 6197\n",
       "delay_from_due_date            73\n",
       "num_of_delayed_payment        644\n",
       "changed_credit_limit         4328\n",
       "num_credit_inquiries         1154\n",
       "credit_mix                      4\n",
       "outstanding_debt            12113\n",
       "credit_utilization_ratio    90677\n",
       "payment_of_min_amount           3\n",
       "total_emi_per_month         14548\n",
       "amount_invested_monthly     82570\n",
       "payment_behaviour               7\n",
       "monthly_balance             88052\n",
       "credit_score                    3\n",
       "credit_history_age_new        405\n",
       "dtype: int64"
      ]
     },
     "execution_count": 150,
     "metadata": {},
     "output_type": "execute_result"
    }
   ],
   "source": [
    "credit_data_df.nunique()"
   ]
  },
  {
   "cell_type": "code",
   "execution_count": 151,
   "metadata": {},
   "outputs": [],
   "source": [
    "credit_data_df.monthly_balance = credit_data_df.monthly_balance.astype(float)"
   ]
  },
  {
   "cell_type": "code",
   "execution_count": 152,
   "metadata": {},
   "outputs": [],
   "source": [
    "# credit_data_10 = pd.get_dummies(credit_data_9,prefix = ['credit_score'],columns=['credit_score'])\n",
    "from sklearn.preprocessing import LabelEncoder\n",
    "le = LabelEncoder()\n",
    "\n",
    "for i in credit_data_df.columns:\n",
    "    if (credit_data_df[i].dtypes == 'object'):\n",
    "        credit_data_df[i] = le.fit_transform(credit_data_df[i])\n",
    "       "
   ]
  },
  {
   "cell_type": "code",
   "execution_count": 153,
   "metadata": {},
   "outputs": [
    {
     "data": {
      "text/html": [
       "<div>\n",
       "<style scoped>\n",
       "    .dataframe tbody tr th:only-of-type {\n",
       "        vertical-align: middle;\n",
       "    }\n",
       "\n",
       "    .dataframe tbody tr th {\n",
       "        vertical-align: top;\n",
       "    }\n",
       "\n",
       "    .dataframe thead th {\n",
       "        text-align: right;\n",
       "    }\n",
       "</style>\n",
       "<table border=\"1\" class=\"dataframe\">\n",
       "  <thead>\n",
       "    <tr style=\"text-align: right;\">\n",
       "      <th></th>\n",
       "      <th>Unnamed: 0</th>\n",
       "      <th>month</th>\n",
       "      <th>age</th>\n",
       "      <th>occupation</th>\n",
       "      <th>annual_income</th>\n",
       "      <th>num_bank_accounts</th>\n",
       "      <th>num_credit_card</th>\n",
       "      <th>interest_rate</th>\n",
       "      <th>num_of_loan</th>\n",
       "      <th>type_of_loan</th>\n",
       "      <th>...</th>\n",
       "      <th>credit_mix</th>\n",
       "      <th>outstanding_debt</th>\n",
       "      <th>credit_utilization_ratio</th>\n",
       "      <th>payment_of_min_amount</th>\n",
       "      <th>total_emi_per_month</th>\n",
       "      <th>amount_invested_monthly</th>\n",
       "      <th>payment_behaviour</th>\n",
       "      <th>monthly_balance</th>\n",
       "      <th>credit_score</th>\n",
       "      <th>credit_history_age_new</th>\n",
       "    </tr>\n",
       "  </thead>\n",
       "  <tbody>\n",
       "    <tr>\n",
       "      <th>0</th>\n",
       "      <td>0</td>\n",
       "      <td>3</td>\n",
       "      <td>23</td>\n",
       "      <td>13</td>\n",
       "      <td>19114.12</td>\n",
       "      <td>3</td>\n",
       "      <td>4</td>\n",
       "      <td>3</td>\n",
       "      <td>4</td>\n",
       "      <td>127</td>\n",
       "      <td>...</td>\n",
       "      <td>2</td>\n",
       "      <td>809.98</td>\n",
       "      <td>26.822620</td>\n",
       "      <td>1</td>\n",
       "      <td>49.574949</td>\n",
       "      <td>80.415295</td>\n",
       "      <td>2</td>\n",
       "      <td>312.494089</td>\n",
       "      <td>0</td>\n",
       "      <td>180</td>\n",
       "    </tr>\n",
       "    <tr>\n",
       "      <th>1</th>\n",
       "      <td>1</td>\n",
       "      <td>2</td>\n",
       "      <td>23</td>\n",
       "      <td>13</td>\n",
       "      <td>19114.12</td>\n",
       "      <td>3</td>\n",
       "      <td>4</td>\n",
       "      <td>3</td>\n",
       "      <td>4</td>\n",
       "      <td>127</td>\n",
       "      <td>...</td>\n",
       "      <td>1</td>\n",
       "      <td>809.98</td>\n",
       "      <td>31.944960</td>\n",
       "      <td>1</td>\n",
       "      <td>49.574949</td>\n",
       "      <td>118.280222</td>\n",
       "      <td>3</td>\n",
       "      <td>284.629162</td>\n",
       "      <td>0</td>\n",
       "      <td>404</td>\n",
       "    </tr>\n",
       "    <tr>\n",
       "      <th>2</th>\n",
       "      <td>3</td>\n",
       "      <td>0</td>\n",
       "      <td>23</td>\n",
       "      <td>13</td>\n",
       "      <td>19114.12</td>\n",
       "      <td>3</td>\n",
       "      <td>4</td>\n",
       "      <td>3</td>\n",
       "      <td>4</td>\n",
       "      <td>127</td>\n",
       "      <td>...</td>\n",
       "      <td>1</td>\n",
       "      <td>809.98</td>\n",
       "      <td>31.377862</td>\n",
       "      <td>1</td>\n",
       "      <td>49.574949</td>\n",
       "      <td>199.458074</td>\n",
       "      <td>5</td>\n",
       "      <td>223.451310</td>\n",
       "      <td>0</td>\n",
       "      <td>183</td>\n",
       "    </tr>\n",
       "    <tr>\n",
       "      <th>3</th>\n",
       "      <td>4</td>\n",
       "      <td>7</td>\n",
       "      <td>23</td>\n",
       "      <td>13</td>\n",
       "      <td>19114.12</td>\n",
       "      <td>3</td>\n",
       "      <td>4</td>\n",
       "      <td>3</td>\n",
       "      <td>4</td>\n",
       "      <td>127</td>\n",
       "      <td>...</td>\n",
       "      <td>1</td>\n",
       "      <td>809.98</td>\n",
       "      <td>24.797347</td>\n",
       "      <td>1</td>\n",
       "      <td>49.574949</td>\n",
       "      <td>41.420153</td>\n",
       "      <td>1</td>\n",
       "      <td>341.489231</td>\n",
       "      <td>0</td>\n",
       "      <td>184</td>\n",
       "    </tr>\n",
       "    <tr>\n",
       "      <th>4</th>\n",
       "      <td>5</td>\n",
       "      <td>5</td>\n",
       "      <td>23</td>\n",
       "      <td>13</td>\n",
       "      <td>19114.12</td>\n",
       "      <td>3</td>\n",
       "      <td>4</td>\n",
       "      <td>3</td>\n",
       "      <td>4</td>\n",
       "      <td>127</td>\n",
       "      <td>...</td>\n",
       "      <td>1</td>\n",
       "      <td>809.98</td>\n",
       "      <td>27.262259</td>\n",
       "      <td>1</td>\n",
       "      <td>49.574949</td>\n",
       "      <td>62.430172</td>\n",
       "      <td>6</td>\n",
       "      <td>340.479212</td>\n",
       "      <td>0</td>\n",
       "      <td>185</td>\n",
       "    </tr>\n",
       "  </tbody>\n",
       "</table>\n",
       "<p>5 rows × 24 columns</p>\n",
       "</div>"
      ],
      "text/plain": [
       "   Unnamed: 0  month  age  occupation  annual_income  num_bank_accounts  \\\n",
       "0           0      3   23          13       19114.12                  3   \n",
       "1           1      2   23          13       19114.12                  3   \n",
       "2           3      0   23          13       19114.12                  3   \n",
       "3           4      7   23          13       19114.12                  3   \n",
       "4           5      5   23          13       19114.12                  3   \n",
       "\n",
       "   num_credit_card  interest_rate  num_of_loan  type_of_loan  ...  credit_mix  \\\n",
       "0                4              3            4           127  ...           2   \n",
       "1                4              3            4           127  ...           1   \n",
       "2                4              3            4           127  ...           1   \n",
       "3                4              3            4           127  ...           1   \n",
       "4                4              3            4           127  ...           1   \n",
       "\n",
       "   outstanding_debt  credit_utilization_ratio  payment_of_min_amount  \\\n",
       "0            809.98                 26.822620                      1   \n",
       "1            809.98                 31.944960                      1   \n",
       "2            809.98                 31.377862                      1   \n",
       "3            809.98                 24.797347                      1   \n",
       "4            809.98                 27.262259                      1   \n",
       "\n",
       "   total_emi_per_month  amount_invested_monthly  payment_behaviour  \\\n",
       "0            49.574949                80.415295                  2   \n",
       "1            49.574949               118.280222                  3   \n",
       "2            49.574949               199.458074                  5   \n",
       "3            49.574949                41.420153                  1   \n",
       "4            49.574949                62.430172                  6   \n",
       "\n",
       "   monthly_balance  credit_score  credit_history_age_new  \n",
       "0       312.494089             0                     180  \n",
       "1       284.629162             0                     404  \n",
       "2       223.451310             0                     183  \n",
       "3       341.489231             0                     184  \n",
       "4       340.479212             0                     185  \n",
       "\n",
       "[5 rows x 24 columns]"
      ]
     },
     "execution_count": 153,
     "metadata": {},
     "output_type": "execute_result"
    }
   ],
   "source": [
    "credit_data_df.head()"
   ]
  },
  {
   "cell_type": "code",
   "execution_count": 154,
   "metadata": {},
   "outputs": [
    {
     "data": {
      "text/html": [
       "<div>\n",
       "<style scoped>\n",
       "    .dataframe tbody tr th:only-of-type {\n",
       "        vertical-align: middle;\n",
       "    }\n",
       "\n",
       "    .dataframe tbody tr th {\n",
       "        vertical-align: top;\n",
       "    }\n",
       "\n",
       "    .dataframe thead th {\n",
       "        text-align: right;\n",
       "    }\n",
       "</style>\n",
       "<table border=\"1\" class=\"dataframe\">\n",
       "  <thead>\n",
       "    <tr style=\"text-align: right;\">\n",
       "      <th></th>\n",
       "      <th>credit_mix</th>\n",
       "      <th>interest_rate</th>\n",
       "      <th>num_credit_inquiries</th>\n",
       "      <th>credit_utilization_ratio</th>\n",
       "      <th>credit_score</th>\n",
       "    </tr>\n",
       "  </thead>\n",
       "  <tbody>\n",
       "    <tr>\n",
       "      <th>0</th>\n",
       "      <td>2</td>\n",
       "      <td>3</td>\n",
       "      <td>4.0</td>\n",
       "      <td>26.822620</td>\n",
       "      <td>0</td>\n",
       "    </tr>\n",
       "    <tr>\n",
       "      <th>1</th>\n",
       "      <td>1</td>\n",
       "      <td>3</td>\n",
       "      <td>4.0</td>\n",
       "      <td>31.944960</td>\n",
       "      <td>0</td>\n",
       "    </tr>\n",
       "    <tr>\n",
       "      <th>2</th>\n",
       "      <td>1</td>\n",
       "      <td>3</td>\n",
       "      <td>4.0</td>\n",
       "      <td>31.377862</td>\n",
       "      <td>0</td>\n",
       "    </tr>\n",
       "    <tr>\n",
       "      <th>3</th>\n",
       "      <td>1</td>\n",
       "      <td>3</td>\n",
       "      <td>4.0</td>\n",
       "      <td>24.797347</td>\n",
       "      <td>0</td>\n",
       "    </tr>\n",
       "    <tr>\n",
       "      <th>4</th>\n",
       "      <td>1</td>\n",
       "      <td>3</td>\n",
       "      <td>4.0</td>\n",
       "      <td>27.262259</td>\n",
       "      <td>0</td>\n",
       "    </tr>\n",
       "  </tbody>\n",
       "</table>\n",
       "</div>"
      ],
      "text/plain": [
       "   credit_mix  interest_rate  num_credit_inquiries  credit_utilization_ratio  \\\n",
       "0           2              3                   4.0                 26.822620   \n",
       "1           1              3                   4.0                 31.944960   \n",
       "2           1              3                   4.0                 31.377862   \n",
       "3           1              3                   4.0                 24.797347   \n",
       "4           1              3                   4.0                 27.262259   \n",
       "\n",
       "   credit_score  \n",
       "0             0  \n",
       "1             0  \n",
       "2             0  \n",
       "3             0  \n",
       "4             0  "
      ]
     },
     "execution_count": 154,
     "metadata": {},
     "output_type": "execute_result"
    }
   ],
   "source": [
    "credit_data_df2 = credit_data_df[[\"credit_mix\", \"interest_rate\", \"num_credit_inquiries\",\"credit_utilization_ratio\",\"credit_score\"]]\n",
    "credit_data_df2.head()"
   ]
  },
  {
   "cell_type": "code",
   "execution_count": 155,
   "metadata": {},
   "outputs": [],
   "source": [
    "# create training and testing data\n",
    "from sklearn.model_selection import train_test_split\n",
    "# X_train, X_test, y_train, y_test = train_test_split(X,y,test_size = 0.25,random_state=42)\n",
    "# X_train, X_test, y_train, y_test = train_test_split(X,y,test_size = 0.25)\n",
    "trainM, testM = train_test_split(credit_data_df, test_size=0.3)\n",
    "# trainM, testM = train_test_split(credit_data_df2, test_size=0.3)"
   ]
  },
  {
   "cell_type": "code",
   "execution_count": 156,
   "metadata": {},
   "outputs": [],
   "source": [
    "train_y = trainM[[\"credit_score\"]]\n",
    "train_x = trainM.drop([\"credit_score\",\"changed_credit_limit\"], axis=1) \n",
    "\n",
    "test_y = testM[[\"credit_score\"]]\n",
    "test_x = testM.drop([\"credit_score\",\"changed_credit_limit\"], axis=1)"
   ]
  },
  {
   "cell_type": "code",
   "execution_count": 157,
   "metadata": {},
   "outputs": [],
   "source": [
    "# train_x = trainM[[\"credit_mix\", \"interest_rate\", \"num_credit_inquiries\",\"credit_utilization_ratio\"]]"
   ]
  },
  {
   "cell_type": "code",
   "execution_count": 158,
   "metadata": {},
   "outputs": [],
   "source": [
    "# scale data\n",
    "from sklearn.preprocessing import RobustScaler\n",
    "\n",
    "ro_scaler = RobustScaler()\n",
    "train_x = ro_scaler.fit_transform(train_x)\n",
    "test_x = ro_scaler.fit_transform(test_x)"
   ]
  },
  {
   "cell_type": "code",
   "execution_count": 159,
   "metadata": {},
   "outputs": [
    {
     "name": "stdout",
     "output_type": "stream",
     "text": [
      "Training Score: 0.6175224111039339\n",
      "Testing Score: 0.6159755918247316\n"
     ]
    }
   ],
   "source": [
    "#fit the model to the training data & calculate training and testing data scores\n",
    "from sklearn.linear_model import LogisticRegression\n",
    "from sklearn.metrics import classification_report, confusion_matrix\n",
    "lr = LogisticRegression(C = 100)\n",
    "lr.fit(train_x , train_y)\n",
    "\n",
    "training_score = lr.score(train_x , train_y)\n",
    "testing_score = lr.score(test_x , test_y)\n",
    "\n",
    "print(f\"Training Score: {training_score}\")\n",
    "print(f\"Testing Score: {testing_score}\")\n"
   ]
  },
  {
   "cell_type": "code",
   "execution_count": 160,
   "metadata": {},
   "outputs": [
    {
     "name": "stdout",
     "output_type": "stream",
     "text": [
      "Predictions: [0 0 2 ... 2 2 2]\n"
     ]
    }
   ],
   "source": [
    "predictions = lr.predict(test_x)\n",
    "print(f\"Predictions: {predictions}\")"
   ]
  },
  {
   "cell_type": "code",
   "execution_count": 167,
   "metadata": {},
   "outputs": [],
   "source": [
    "# KNN MODEL\n",
    "from sklearn.neighbors import KNeighborsClassifier"
   ]
  },
  {
   "cell_type": "code",
   "execution_count": 168,
   "metadata": {},
   "outputs": [],
   "source": [
    "knn = KNeighborsClassifier(n_neighbors=13)"
   ]
  },
  {
   "cell_type": "code",
   "execution_count": 169,
   "metadata": {},
   "outputs": [
    {
     "data": {
      "text/plain": [
       "KNeighborsClassifier(n_neighbors=13)"
      ]
     },
     "execution_count": 169,
     "metadata": {},
     "output_type": "execute_result"
    }
   ],
   "source": [
    "knn.fit(train_x , train_y)"
   ]
  },
  {
   "cell_type": "code",
   "execution_count": 170,
   "metadata": {},
   "outputs": [
    {
     "data": {
      "text/plain": [
       "0.721314574701054"
      ]
     },
     "execution_count": 170,
     "metadata": {},
     "output_type": "execute_result"
    }
   ],
   "source": [
    "knn.score(train_x , train_y)"
   ]
  },
  {
   "cell_type": "code",
   "execution_count": 171,
   "metadata": {},
   "outputs": [
    {
     "data": {
      "text/plain": [
       "0.66997500367593"
      ]
     },
     "execution_count": 171,
     "metadata": {},
     "output_type": "execute_result"
    }
   ],
   "source": [
    "knn.score(test_x , test_y)"
   ]
  },
  {
   "cell_type": "code",
   "execution_count": null,
   "metadata": {},
   "outputs": [],
   "source": [
    "# KNN test plot\n"
   ]
  },
  {
   "cell_type": "code",
   "execution_count": 161,
   "metadata": {},
   "outputs": [],
   "source": [
    "# RANDOM FOREST\n",
    "from sklearn.ensemble import RandomForestClassifier"
   ]
  },
  {
   "cell_type": "code",
   "execution_count": 162,
   "metadata": {},
   "outputs": [],
   "source": [
    "rf = RandomForestClassifier(max_features=5 ,    max_depth=4)"
   ]
  },
  {
   "cell_type": "code",
   "execution_count": 163,
   "metadata": {},
   "outputs": [
    {
     "data": {
      "text/plain": [
       "RandomForestClassifier(max_depth=4, max_features=5)"
      ]
     },
     "execution_count": 163,
     "metadata": {},
     "output_type": "execute_result"
    }
   ],
   "source": [
    "rf.fit(train_x , train_y)"
   ]
  },
  {
   "cell_type": "code",
   "execution_count": 164,
   "metadata": {},
   "outputs": [
    {
     "data": {
      "text/plain": [
       "0.6481653616498354"
      ]
     },
     "execution_count": 164,
     "metadata": {},
     "output_type": "execute_result"
    }
   ],
   "source": [
    "rf.score(train_x ,train_y)"
   ]
  },
  {
   "cell_type": "code",
   "execution_count": 165,
   "metadata": {},
   "outputs": [
    {
     "data": {
      "text/plain": [
       "0.651558594324364"
      ]
     },
     "execution_count": 165,
     "metadata": {},
     "output_type": "execute_result"
    }
   ],
   "source": [
    "rf.score(test_x , test_y)"
   ]
  },
  {
   "cell_type": "code",
   "execution_count": 166,
   "metadata": {},
   "outputs": [
    {
     "data": {
      "text/plain": [
       "[(0.28410197765265327, 'credit_mix'),\n",
       " (0.1608308525212231, 'interest_rate'),\n",
       " (0.15466877392803588, 'num_credit_inquiries'),\n",
       " (0.0800221527373412, 'credit_utilization_ratio'),\n",
       " (0.07695100523359485, 'changed_credit_limit'),\n",
       " (0.07380515522535548, 'delay_from_due_date'),\n",
       " (0.06693742930539126, 'num_credit_card'),\n",
       " (0.04186763369711247, 'num_bank_accounts'),\n",
       " (0.024270424329261988, 'num_of_loan'),\n",
       " (0.020442616664996242, 'num_of_delayed_payment'),\n",
       " (0.00423880756547474, 'monthly_balance'),\n",
       " (0.0037822739716456585, 'annual_income'),\n",
       " (0.002603391437710493, 'payment_behaviour'),\n",
       " (0.0020116774307664203, 'payment_of_min_amount'),\n",
       " (0.0012032242910636909, 'age'),\n",
       " (0.0007278338439156276, 'type_of_loan'),\n",
       " (0.0005789236440018499, 'month'),\n",
       " (0.00030584277058560055, 'amount_invested_monthly'),\n",
       " (0.00029849447354047507, 'Unnamed: 0'),\n",
       " (0.00019488230501479807, 'total_emi_per_month'),\n",
       " (9.899342968848555e-05, 'occupation'),\n",
       " (5.763354162623674e-05, 'outstanding_debt')]"
      ]
     },
     "execution_count": 166,
     "metadata": {},
     "output_type": "execute_result"
    }
   ],
   "source": [
    "sorted(zip(rf.feature_importances_,credit_data_df.columns),reverse=True)"
   ]
  }
 ],
 "metadata": {
  "kernelspec": {
   "display_name": "Python 3.7.13 ('bootcamp')",
   "language": "python",
   "name": "python3"
  },
  "language_info": {
   "codemirror_mode": {
    "name": "ipython",
    "version": 3
   },
   "file_extension": ".py",
   "mimetype": "text/x-python",
   "name": "python",
   "nbconvert_exporter": "python",
   "pygments_lexer": "ipython3",
   "version": "3.7.13"
  },
  "orig_nbformat": 4,
  "vscode": {
   "interpreter": {
    "hash": "f46a3ea41c4a4970c660721f06144115104716cb52441bcd71170d52c9befc3b"
   }
  }
 },
 "nbformat": 4,
 "nbformat_minor": 2
}
